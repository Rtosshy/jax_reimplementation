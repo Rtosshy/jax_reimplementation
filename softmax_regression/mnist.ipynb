{
 "cells": [
  {
   "cell_type": "code",
   "execution_count": null,
   "id": "a59875bf",
   "metadata": {},
   "outputs": [],
   "source": [
    "import jax\n",
    "import jax.numpy as jnp\n",
    "import tensorflow as tf"
   ]
  },
  {
   "cell_type": "code",
   "execution_count": null,
   "id": "9abb0a3c",
   "metadata": {},
   "outputs": [],
   "source": [
    "cpu = jax.devices(\"cpu\")[0] if jax.devices(\"cpu\") else None\n",
    "gpu = jax.devices(\"METAL\")[0] if jax.devices(\"METAL\") else None\n",
    "jax.config.update(\"jax_platform_name\", \"cpu\")\n",
    "\n",
    "key = jax.random.PRNGKey(0)"
   ]
  },
  {
   "cell_type": "code",
   "execution_count": null,
   "id": "d2138635",
   "metadata": {},
   "outputs": [],
   "source": [
    "(x_train, y_train), (x_test, y_test) = tf.keras.datasets.mnist.load_data()\n",
    "\n",
    "print(f\"Data range: {x_train.min()} to {x_train.max()}\")\n",
    "print(f\"Number of classes: {len(jnp.unique(y_train))}\")\n",
    "\n",
    "num_classes = len(jnp.unique(y_train))\n",
    "\n",
    "x_train = x_train.reshape(x_train.shape[0], -1)\n",
    "x_test = x_test.reshape(x_test.shape[0], -1)\n",
    "\n",
    "y_train = jnp.eye(num_classes)[y_train]\n",
    "y_test = jnp.eye(num_classes)[y_test]\n",
    "\n",
    "print(f\"Training data shape: {x_train.shape}\")\n",
    "print(f\"Training labels shape: {y_train.shape}\")\n",
    "print(f\"Test data shape: {x_test.shape}\")\n",
    "print(f\"Test labels shape: {y_test.shape}\")\n"
   ]
  },
  {
   "cell_type": "code",
   "execution_count": null,
   "id": "d4e0eb70",
   "metadata": {},
   "outputs": [],
   "source": [
    "x_train = x_train.astype('float32') / 255.0\n",
    "x_test = x_test.astype('float32') / 255.0"
   ]
  },
  {
   "cell_type": "code",
   "execution_count": null,
   "id": "cfb2fc3c",
   "metadata": {},
   "outputs": [],
   "source": [
    "x_train = jnp.array(x_train)\n",
    "y_train = jnp.array(y_train)\n",
    "x_test = jnp.array(x_test)\n",
    "y_test = jnp.array(y_test)"
   ]
  },
  {
   "cell_type": "code",
   "execution_count": null,
   "id": "4e2e1c4a",
   "metadata": {},
   "outputs": [],
   "source": [
    "def jnp_log(x: jnp.array) -> jnp.array:\n",
    "    x = jnp.clip(x, 1e-10, 1e+10)\n",
    "    return jnp.log(x)"
   ]
  },
  {
   "cell_type": "code",
   "execution_count": null,
   "id": "2dd9c834",
   "metadata": {},
   "outputs": [],
   "source": [
    "def softmax(x: jnp.array) -> jnp.array:\n",
    "    x_max = jnp.max(x, axis=-1, keepdims=True)\n",
    "    x_shifted = x - x_max\n",
    "    exp_x = jnp.exp(x_shifted)\n",
    "    return exp_x / jnp.sum(exp_x, axis=-1, keepdims=True)"
   ]
  },
  {
   "cell_type": "code",
   "execution_count": null,
   "id": "bc364e9a",
   "metadata": {},
   "outputs": [],
   "source": [
    "def cross_entropy(y_hat: jnp.array, y: jnp.array) -> jnp.array:\n",
    "    return -jnp.mean(jnp.sum(y * jnp_log(y_hat), axis=-1))"
   ]
  },
  {
   "cell_type": "code",
   "execution_count": null,
   "id": "3d4a0fcb",
   "metadata": {},
   "outputs": [],
   "source": [
    "W = jax.random.normal(key, shape=(784, 10))\n",
    "b = jax.random.normal(key, shape=(10,))"
   ]
  },
  {
   "cell_type": "code",
   "execution_count": null,
   "id": "1a3976d4",
   "metadata": {},
   "outputs": [],
   "source": [
    "epochs = 1000\n",
    "eta = 0.1\n",
    "\n",
    "for epoch in range(1, epochs+1):\n",
    "    y_hat = softmax(jnp.dot(x_train, W) + b)\n",
    "\n",
    "    loss = cross_entropy(y_hat, y_train)\n",
    "\n",
    "    delta = y_hat - y_train\n",
    "\n",
    "    batch_size = x_train.shape[0]\n",
    "\n",
    "    dW = jnp.dot(x_train.T, delta) / batch_size\n",
    "    db = jnp.mean(delta, axis=0, keepdims=True)\n",
    "\n",
    "    W -= eta * dW\n",
    "    b -= eta * db\n",
    "\n",
    "    if epoch % 100 == 0:\n",
    "        print(f\"epoch: {epoch}, loss: {loss}\")"
   ]
  },
  {
   "cell_type": "code",
   "execution_count": null,
   "id": "8c8d98ad",
   "metadata": {},
   "outputs": [],
   "source": [
    "y_hat = softmax(jnp.dot(x_test, W) + b)\n",
    "y_pred = jnp.argmax(y_hat, axis=-1)\n",
    "y_true = jnp.argmax(y_test, axis=-1)\n",
    "acc = jnp.mean(y_pred == y_true)\n",
    "print(f\"Test accuracy: {acc * 100:.2f}%\")"
   ]
  }
 ],
 "metadata": {
  "kernelspec": {
   "display_name": "jax_playground",
   "language": "python",
   "name": "python3"
  },
  "language_info": {
   "codemirror_mode": {
    "name": "ipython",
    "version": 3
   },
   "file_extension": ".py",
   "mimetype": "text/x-python",
   "name": "python",
   "nbconvert_exporter": "python",
   "pygments_lexer": "ipython3",
   "version": "3.12.11"
  }
 },
 "nbformat": 4,
 "nbformat_minor": 5
}
