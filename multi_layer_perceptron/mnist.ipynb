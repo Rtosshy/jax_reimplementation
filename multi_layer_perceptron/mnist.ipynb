{
 "cells": [
  {
   "cell_type": "code",
   "execution_count": null,
   "id": "48682f7a",
   "metadata": {},
   "outputs": [],
   "source": [
    "import jax\n",
    "import jax.numpy as jnp\n",
    "import tensorflow as tf"
   ]
  },
  {
   "cell_type": "code",
   "execution_count": null,
   "id": "50320ca4",
   "metadata": {},
   "outputs": [],
   "source": [
    "cpu = jax.devices(\"cpu\")[0] if jax.devices(\"cpu\") else None\n",
    "gpu = jax.devices(\"METAL\")[0] if jax.devices(\"METAL\") else None\n",
    "jax.config.update(\"jax_platform_name\", \"cpu\")\n",
    "\n",
    "key = jax.random.PRNGKey(0)"
   ]
  },
  {
   "cell_type": "code",
   "execution_count": null,
   "id": "ba9e4713",
   "metadata": {},
   "outputs": [],
   "source": [
    "(x_train, y_train), (x_test, y_test) = tf.keras.datasets.mnist.load_data()\n",
    "\n",
    "print(f\"Data range: {x_train.min()} to {x_train.max()}\")\n",
    "print(f\"Number of classes: {len(jnp.unique(y_train))}\")\n",
    "\n",
    "num_classes = len(jnp.unique(y_train))\n",
    "\n",
    "x_train = x_train.reshape(x_train.shape[0], -1)\n",
    "x_test = x_test.reshape(x_test.shape[0], -1)\n",
    "\n",
    "y_train = jnp.eye(num_classes)[y_train]\n",
    "y_test = jnp.eye(num_classes)[y_test]\n",
    "\n",
    "print(f\"Training data shape: {x_train.shape}\")\n",
    "print(f\"Training labels shape: {y_train.shape}\")\n",
    "print(f\"Test data shape: {x_test.shape}\")\n",
    "print(f\"Test labels shape: {y_test.shape}\")\n"
   ]
  },
  {
   "cell_type": "code",
   "execution_count": null,
   "id": "174a95e8",
   "metadata": {},
   "outputs": [],
   "source": [
    "x_train = x_train.astype('float32') / 255.0\n",
    "x_test = x_test.astype('float32') / 255.0"
   ]
  },
  {
   "cell_type": "code",
   "execution_count": null,
   "id": "138f0a73",
   "metadata": {},
   "outputs": [],
   "source": [
    "x_train = jnp.array(x_train)\n",
    "y_train = jnp.array(y_train)\n",
    "x_test = jnp.array(x_test)\n",
    "y_test = jnp.array(y_test)"
   ]
  },
  {
   "cell_type": "code",
   "execution_count": null,
   "id": "daa28eed",
   "metadata": {},
   "outputs": [],
   "source": [
    "def jnp_log(x: jnp.array) -> jnp.array:\n",
    "    x = jnp.clip(x, 1e-10, 1e+10)\n",
    "    return jnp.log(x)"
   ]
  },
  {
   "cell_type": "code",
   "execution_count": null,
   "id": "df468564",
   "metadata": {},
   "outputs": [],
   "source": [
    "class Relu:\n",
    "    @staticmethod\n",
    "    def forward(x: jnp.array) -> jnp.array:\n",
    "        return jnp.maximum(0, x)\n",
    "\n",
    "    @staticmethod\n",
    "    def backward(dout: jnp.array, x: jnp.array) -> jnp.array:\n",
    "        return dout * (x > 0).astype(dout.dtype)"
   ]
  },
  {
   "cell_type": "code",
   "execution_count": null,
   "id": "1fc9711c",
   "metadata": {},
   "outputs": [],
   "source": [
    "class Softmax:\n",
    "    @staticmethod\n",
    "    def forward(x: jnp.array) -> jnp.array:\n",
    "        x_max = jnp.max(x, axis=-1, keepdims=True)\n",
    "        x_shifted = x - x_max\n",
    "        exp_x = jnp.exp(x_shifted)\n",
    "        return exp_x / jnp.sum(exp_x, axis=-1, keepdims=True)\n",
    "\n",
    "    @staticmethod\n",
    "    def backward(dout: jnp.array, x: jnp.array) -> jnp.array:\n",
    "        return Softmax.forward(x) * (dout - jnp.sum(dout * Softmax.forward(x), axis=-1, keepdims=True))"
   ]
  },
  {
   "cell_type": "code",
   "execution_count": null,
   "id": "11c8feae",
   "metadata": {},
   "outputs": [],
   "source": [
    "def cross_entropy(y_hat: jnp.array, y: jnp.array) -> jnp.array:\n",
    "    return -jnp.mean(jnp.sum(y * jnp_log(y_hat), axis=-1))"
   ]
  },
  {
   "cell_type": "code",
   "execution_count": null,
   "id": "e4f6e1d5",
   "metadata": {},
   "outputs": [],
   "source": [
    "input_dim = 784\n",
    "hidden_dim = 256\n",
    "output_dim = 10"
   ]
  },
  {
   "cell_type": "code",
   "execution_count": null,
   "id": "19fb4fd0",
   "metadata": {},
   "outputs": [],
   "source": [
    "W1 = jax.random.normal(key, shape=(input_dim, hidden_dim))\n",
    "b1 = jax.random.normal(key, shape=(hidden_dim,))\n",
    "W2 = jax.random.normal(key, shape=(hidden_dim, output_dim))\n",
    "b2 = jax.random.normal(key, shape=(output_dim,))"
   ]
  },
  {
   "cell_type": "code",
   "execution_count": null,
   "id": "24f44d1c",
   "metadata": {},
   "outputs": [],
   "source": [
    "epochs = 1000\n",
    "eta = 0.1\n",
    "\n",
    "for epoch in range(1, epochs+1):\n",
    "    batch_size = x_train.shape[0]\n",
    "\n",
    "    # forward\n",
    "    u1 = jnp.dot(x_train, W1) + b1\n",
    "    h1 = Relu.forward(u1)\n",
    "\n",
    "    u2 = jnp.dot(h1, W2) + b2\n",
    "    y_hat = Softmax.forward(u2)\n",
    "\n",
    "    loss = cross_entropy(y_hat, y_train)\n",
    "\n",
    "    # backward\n",
    "    delta_2 = y_hat - y_train\n",
    "\n",
    "    dout = jnp.dot(delta_2, W2.T)\n",
    "    delta_1 = Relu.backward(dout=dout, x=u1)\n",
    "\n",
    "    # calculate gradients\n",
    "    dW1 = jnp.dot(x_train.T, delta_1) / batch_size\n",
    "    db1 = jnp.mean(delta_1, axis=0)\n",
    "\n",
    "    dW2 = jnp.dot(h1.T, delta_2) / batch_size\n",
    "    db2 = jnp.mean(delta_2, axis=0)\n",
    "\n",
    "\n",
    "    # parameter update\n",
    "    W1 -= eta * dW1\n",
    "    b1 -= eta * db1\n",
    "\n",
    "    W2 -= eta * dW2\n",
    "    b2 -= eta * db2\n",
    "\n",
    "    if epoch % 100 == 0:\n",
    "        print(f\"epoch: {epoch}, loss: {loss}\")\n"
   ]
  },
  {
   "cell_type": "code",
   "execution_count": null,
   "id": "d9c693fb",
   "metadata": {},
   "outputs": [],
   "source": [
    "u1 = jnp.dot(x_test, W1) + b1\n",
    "h1 = Relu.forward(u1)\n",
    "\n",
    "u2 = jnp.dot(h1, W2) + b2\n",
    "y_hat = Softmax.forward(u2)\n",
    "\n",
    "y_pred = jnp.argmax(y_hat, axis=-1)\n",
    "y_true = jnp.argmax(y_test, axis=-1)\n",
    "acc = jnp.mean(y_pred == y_true)\n",
    "print(f\"Test accuracy: {acc * 100:.2f}%\")"
   ]
  }
 ],
 "metadata": {
  "kernelspec": {
   "display_name": "jax_playground",
   "language": "python",
   "name": "python3"
  },
  "language_info": {
   "codemirror_mode": {
    "name": "ipython",
    "version": 3
   },
   "file_extension": ".py",
   "mimetype": "text/x-python",
   "name": "python",
   "nbconvert_exporter": "python",
   "pygments_lexer": "ipython3",
   "version": "3.12.11"
  }
 },
 "nbformat": 4,
 "nbformat_minor": 5
}
