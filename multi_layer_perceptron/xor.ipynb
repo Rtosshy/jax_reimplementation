{
 "cells": [
  {
   "cell_type": "code",
   "execution_count": null,
   "id": "e564859e",
   "metadata": {},
   "outputs": [],
   "source": [
    "import jax\n",
    "import jax.numpy as jnp"
   ]
  },
  {
   "cell_type": "code",
   "execution_count": null,
   "id": "fb89d861",
   "metadata": {},
   "outputs": [],
   "source": [
    "cpu = jax.devices(\"cpu\")[0] if jax.devices(\"cpu\") else None\n",
    "gpu = jax.devices(\"METAL\")[0] if jax.devices(\"METAL\") else None\n",
    "jax.config.update(\"jax_platform_name\", \"cpu\")\n",
    "\n",
    "key = jax.random.PRNGKey(0)"
   ]
  },
  {
   "cell_type": "code",
   "execution_count": null,
   "id": "c3ec4311",
   "metadata": {},
   "outputs": [],
   "source": [
    "x_train = jnp.array(\n",
    "    [\n",
    "        [0, 0],\n",
    "        [0, 1],\n",
    "        [1, 0],\n",
    "        [1, 1],\n",
    "    ]\n",
    ")"
   ]
  },
  {
   "cell_type": "code",
   "execution_count": null,
   "id": "90e54988",
   "metadata": {},
   "outputs": [],
   "source": [
    "y_train = jnp.array([[0], [1], [1], [0]])"
   ]
  },
  {
   "cell_type": "code",
   "execution_count": null,
   "id": "b626c569",
   "metadata": {},
   "outputs": [],
   "source": [
    "x_test = jnp.array(\n",
    "    [\n",
    "        [1, 0],\n",
    "        [0, 1],\n",
    "        [1, 0],\n",
    "        [0, 1],\n",
    "    ]\n",
    ")"
   ]
  },
  {
   "cell_type": "code",
   "execution_count": null,
   "id": "fbe1c077",
   "metadata": {},
   "outputs": [],
   "source": [
    "y_test = jnp.array([[1], [1], [1], [1]])"
   ]
  },
  {
   "cell_type": "code",
   "execution_count": null,
   "id": "c88847db",
   "metadata": {},
   "outputs": [],
   "source": [
    "def jnp_log(x: jnp.array) -> jnp.array:\n",
    "    x = jnp.clip(x, 1e-10, 1e+10)\n",
    "    return jnp.log(x)"
   ]
  },
  {
   "cell_type": "code",
   "execution_count": null,
   "id": "1f8432ef",
   "metadata": {},
   "outputs": [],
   "source": [
    "class Sigmoid:\n",
    "    @staticmethod\n",
    "    def forward(x: jnp.array) -> jnp.array:\n",
    "        return jnp.exp(jnp.minimum(x, 0)) / (1 + jnp.exp(-jnp.abs(x)))\n",
    "\n",
    "    @staticmethod\n",
    "    def backward(dout: jnp.array, x: jnp.array) -> jnp.array:\n",
    "        return dout * (1.0 - Sigmoid.forward(x)) * Sigmoid.forward(x)"
   ]
  },
  {
   "cell_type": "code",
   "execution_count": null,
   "id": "d65254a5",
   "metadata": {},
   "outputs": [],
   "source": [
    "class Relu:\n",
    "    @staticmethod\n",
    "    def forward(x: jnp.array) -> jnp.array:\n",
    "        return jnp.maximum(0, x)\n",
    "\n",
    "    @staticmethod\n",
    "    def backward(dout: jnp.array, x: jnp.array) -> jnp.array:\n",
    "        return dout * (x > 0).astype(dout.dtype)"
   ]
  },
  {
   "cell_type": "code",
   "execution_count": null,
   "id": "664b07f9",
   "metadata": {},
   "outputs": [],
   "source": [
    "def binary_cross_entropy(y: jnp.array, y_hat: jnp.array) -> jnp.array:\n",
    "    return -jnp.mean(y * jnp_log(y_hat) + (1 - y) * jnp_log(1 - y_hat))"
   ]
  },
  {
   "cell_type": "code",
   "execution_count": null,
   "id": "fb69ee89",
   "metadata": {},
   "outputs": [],
   "source": [
    "input_dim = 2\n",
    "hidden_dim = 8\n",
    "output_dim = 1"
   ]
  },
  {
   "cell_type": "code",
   "execution_count": null,
   "id": "1477ebd9",
   "metadata": {},
   "outputs": [],
   "source": [
    "W1 = jax.random.normal(key, shape=(input_dim, hidden_dim))\n",
    "b1 = jax.random.normal(key, shape=(hidden_dim,))\n",
    "W2 = jax.random.normal(key, shape=(hidden_dim, output_dim))\n",
    "b2 = jax.random.normal(key, shape=(output_dim,))"
   ]
  },
  {
   "cell_type": "code",
   "execution_count": null,
   "id": "8bd98613",
   "metadata": {},
   "outputs": [],
   "source": [
    "epochs = 10000\n",
    "eta = 0.1\n",
    "\n",
    "for epoch in range(1, epochs+1):\n",
    "    batch_size = x_train.shape[0]\n",
    "\n",
    "    # forward\n",
    "    u1 = jnp.dot(x_train, W1) + b1 # (batch_size, hidden_dim)\n",
    "    h1 = Relu.forward(u1) # (batch_size, hidden_dim)\n",
    "    u2 = jnp.dot(h1, W2) + b2 # (batch_size, output_dim)\n",
    "    y_hat = Sigmoid.forward(u2) # (batch_size, output_dim)\n",
    "    loss = binary_cross_entropy(y_train, y_hat)\n",
    "\n",
    "    # backward\n",
    "    delta_2 = y_hat - y_train\n",
    "\n",
    "    dout = jnp.dot(delta_2, W2.T)\n",
    "    delta_1 = Relu.backward(dout=dout, x=u1)\n",
    "\n",
    "    # calculate gradients\n",
    "    dW1 = jnp.dot(x_train.T, delta_1) / batch_size\n",
    "    db1 = jnp.mean(delta_1, axis=0)\n",
    "\n",
    "    dW2 = jnp.dot(h1.T, delta_2) / batch_size\n",
    "    db2 = jnp.mean(delta_2, axis=0)\n",
    "\n",
    "    # parameter update\n",
    "    W1 -= eta * dW1\n",
    "    b1 -= eta * db1\n",
    "\n",
    "    W2 -= eta * dW2\n",
    "    b2 -= eta * db2\n",
    "\n",
    "    if epoch % 100 == 0:\n",
    "        print(f\"epoch: {epoch}, loss: {loss}\")"
   ]
  },
  {
   "cell_type": "code",
   "execution_count": null,
   "id": "edbb865f",
   "metadata": {},
   "outputs": [],
   "source": [
    "u1 = jnp.dot(x_test, W1) + b1 # (batch_size, hidden_dim)\n",
    "h1 = Relu.forward(u1) # (batch_size, hidden_dim)\n",
    "u2 = jnp.dot(h1, W2) + b2 # (batch_size, output_dim)\n",
    "y_hat = Sigmoid.forward(u2) # (batch_size, output_dim)\n",
    "\n",
    "print(\"Predictions:\")\n",
    "print(y_hat)\n",
    "print(\"\\nTrue labels:\")\n",
    "print(y_test)"
   ]
  }
 ],
 "metadata": {
  "kernelspec": {
   "display_name": "jax_playground",
   "language": "python",
   "name": "python3"
  },
  "language_info": {
   "codemirror_mode": {
    "name": "ipython",
    "version": 3
   },
   "file_extension": ".py",
   "mimetype": "text/x-python",
   "name": "python",
   "nbconvert_exporter": "python",
   "pygments_lexer": "ipython3",
   "version": "3.12.11"
  }
 },
 "nbformat": 4,
 "nbformat_minor": 5
}
