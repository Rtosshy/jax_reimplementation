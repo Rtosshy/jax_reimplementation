{
 "cells": [
  {
   "cell_type": "code",
   "execution_count": null,
   "id": "e564859e",
   "metadata": {},
   "outputs": [],
   "source": [
    "import jax\n",
    "import jax.numpy as jnp\n",
    "from typing import Tuple"
   ]
  },
  {
   "cell_type": "code",
   "execution_count": null,
   "id": "fb89d861",
   "metadata": {},
   "outputs": [],
   "source": [
    "cpu = jax.devices(\"cpu\")[0] if jax.devices(\"cpu\") else None\n",
    "gpu = (jax.devices(\"METAL\")[0] if jax.devices(\"METAL\") else\n",
    "       jax.devices(\"gpu\")[0] if jax.devices(\"gpu\") else None)\n",
    "\n",
    "jax.config.update(\"jax_platform_name\", \"cpu\")\n",
    "\n",
    "key = jax.random.PRNGKey(0)"
   ]
  },
  {
   "cell_type": "code",
   "execution_count": null,
   "id": "c3ec4311",
   "metadata": {},
   "outputs": [],
   "source": [
    "x_train = jnp.array(\n",
    "    [\n",
    "        [0, 0],\n",
    "        [0, 1],\n",
    "        [1, 0],\n",
    "        [1, 1],\n",
    "    ]\n",
    ")\n",
    "x_valid = jnp.array(\n",
    "    [\n",
    "        [0, 0],\n",
    "        [0, 1],\n",
    "        [1, 1],\n",
    "        [1, 0],\n",
    "    ]\n",
    ")\n",
    "x_test = jnp.array(\n",
    "    [\n",
    "        [1, 0],\n",
    "        [0, 1],\n",
    "        [1, 0],\n",
    "        [0, 1],\n",
    "    ]\n",
    ")"
   ]
  },
  {
   "cell_type": "code",
   "execution_count": null,
   "id": "90e54988",
   "metadata": {},
   "outputs": [],
   "source": [
    "y_train = jnp.array([[0], [1], [1], [0]])\n",
    "y_valid = jnp.array([[0], [1], [0], [1]])\n",
    "y_test = jnp.array([[1], [1], [1], [1]])"
   ]
  },
  {
   "cell_type": "code",
   "execution_count": null,
   "id": "c88847db",
   "metadata": {},
   "outputs": [],
   "source": [
    "def jnp_log(x: jnp.array) -> jnp.array:\n",
    "    x = jnp.clip(x, 1e-10, 1e+10)\n",
    "    return jnp.log(x)"
   ]
  },
  {
   "cell_type": "code",
   "execution_count": null,
   "id": "1f8432ef",
   "metadata": {},
   "outputs": [],
   "source": [
    "class Sigmoid:\n",
    "    def __init__(self):\n",
    "        pass\n",
    "\n",
    "    def __call__(self, x: jnp.array) -> jnp.array:\n",
    "        return jnp.exp(jnp.minimum(x, 0)) / (1 + jnp.exp(-jnp.abs(x)))\n",
    "\n",
    "    def backward(self, dout: jnp.array, x: jnp.array) -> jnp.array:\n",
    "        return dout * (1.0 - self(x)) * self(x)\n",
    "\n",
    "sigmoid = Sigmoid()"
   ]
  },
  {
   "cell_type": "code",
   "execution_count": null,
   "id": "d65254a5",
   "metadata": {},
   "outputs": [],
   "source": [
    "class Relu:\n",
    "    def __init__(self):\n",
    "        pass\n",
    "\n",
    "    def __call__(self, x: jnp.array) -> jnp.array:\n",
    "        return jnp.maximum(0, x)\n",
    "\n",
    "    def backward(self, dout: jnp.array, x: jnp.array) -> jnp.array:\n",
    "        return dout * (x > 0).astype(dout.dtype)\n",
    "\n",
    "relu = Relu()"
   ]
  },
  {
   "cell_type": "code",
   "execution_count": null,
   "id": "664b07f9",
   "metadata": {},
   "outputs": [],
   "source": [
    "def binary_cross_entropy(y: jnp.array, y_hat: jnp.array) -> jnp.array:\n",
    "    return -jnp.mean(y * jnp_log(y_hat) + (1 - y) * jnp_log(1 - y_hat))"
   ]
  },
  {
   "cell_type": "code",
   "execution_count": null,
   "id": "fb69ee89",
   "metadata": {},
   "outputs": [],
   "source": [
    "input_dim = 2\n",
    "hidden_dim = 8\n",
    "output_dim = 1"
   ]
  },
  {
   "cell_type": "code",
   "execution_count": null,
   "id": "1477ebd9",
   "metadata": {},
   "outputs": [],
   "source": [
    "W1 = jax.random.uniform(key, minval=-0.08, maxval=0.08, shape=(input_dim, hidden_dim)).astype(\"float32\")\n",
    "b1 = jnp.zeros(shape=(hidden_dim,)).astype(\"float32\")\n",
    "W2 = jax.random.uniform(key, minval=-0.08, maxval=0.08, shape=(hidden_dim, output_dim)).astype(\"float32\")\n",
    "b2 = jnp.zeros(shape=(output_dim,)).astype(\"float32\")"
   ]
  },
  {
   "cell_type": "code",
   "execution_count": null,
   "id": "2aa12714",
   "metadata": {},
   "outputs": [],
   "source": [
    "def train(x: jnp.array, y: jnp.array, eta=0.05) -> jnp.array:\n",
    "    global W1, b1, W2, b2\n",
    "\n",
    "    batch_size = x.shape[0]\n",
    "\n",
    "    # forward\n",
    "    u1 = jnp.dot(x, W1) + b1\n",
    "    h1 = relu(u1)\n",
    "\n",
    "    u2 = jnp.dot(h1, W2) + b2\n",
    "    y_hat = sigmoid(u2)\n",
    "    loss = binary_cross_entropy(y, y_hat)\n",
    "\n",
    "    # backward\n",
    "    delta_2 = y_hat - y\n",
    "\n",
    "    dout = jnp.dot(delta_2, W2.T)\n",
    "    delta_1 = relu.backward(dout=dout, x=u1)\n",
    "\n",
    "    # calculate gradients\n",
    "    dW1 = jnp.dot(x.T, delta_1) / batch_size\n",
    "    db1 = jnp.mean(delta_1, axis=0)\n",
    "\n",
    "    dW2 = jnp.dot(h1.T, delta_2) / batch_size\n",
    "    db2 = jnp.mean(delta_2, axis=0)\n",
    "\n",
    "    # parameter update\n",
    "    W1 -= eta * dW1\n",
    "    b1 -= eta * db1\n",
    "\n",
    "    W2 -= eta * dW2\n",
    "    b2 -= eta * db2\n",
    "\n",
    "    return loss"
   ]
  },
  {
   "cell_type": "code",
   "execution_count": null,
   "id": "6151514a",
   "metadata": {},
   "outputs": [],
   "source": [
    "def valid(x: jnp.array, y: jnp.array) -> Tuple[jnp.array, jnp.array]:\n",
    "    # forward\n",
    "    u1 = jnp.dot(x, W1) + b1\n",
    "    h1 = relu(u1)\n",
    "\n",
    "    u2 = jnp.dot(h1, W2) + b2\n",
    "    y_hat = sigmoid(u2)\n",
    "    loss = binary_cross_entropy(y, y_hat)\n",
    "\n",
    "    return loss, y_hat"
   ]
  },
  {
   "cell_type": "code",
   "execution_count": null,
   "id": "8bd98613",
   "metadata": {},
   "outputs": [],
   "source": [
    "epochs = 3000\n",
    "\n",
    "for epoch in range(epochs):\n",
    "    loss = train(x_train, y_train)\n",
    "\n",
    "loss, y_pred = valid(x_valid, y_valid)\n",
    "print(y_pred)"
   ]
  },
  {
   "cell_type": "code",
   "execution_count": null,
   "id": "edbb865f",
   "metadata": {},
   "outputs": [],
   "source": [
    "_, y_pred = valid(x_test, y_test)\n",
    "\n",
    "print(\"Predictions:\")\n",
    "print(y_pred)\n",
    "print(\"\\nTrue labels:\")\n",
    "print(y_test)"
   ]
  }
 ],
 "metadata": {
  "kernelspec": {
   "display_name": "jax_playground",
   "language": "python",
   "name": "python3"
  },
  "language_info": {
   "codemirror_mode": {
    "name": "ipython",
    "version": 3
   },
   "file_extension": ".py",
   "mimetype": "text/x-python",
   "name": "python",
   "nbconvert_exporter": "python",
   "pygments_lexer": "ipython3",
   "version": "3.12.11"
  }
 },
 "nbformat": 4,
 "nbformat_minor": 5
}
