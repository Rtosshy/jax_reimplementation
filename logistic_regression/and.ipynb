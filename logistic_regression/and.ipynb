{
 "cells": [
  {
   "cell_type": "code",
   "execution_count": null,
   "id": "da5b072c",
   "metadata": {},
   "outputs": [],
   "source": [
    "import jax\n",
    "import jax.numpy as jnp"
   ]
  },
  {
   "cell_type": "code",
   "execution_count": null,
   "id": "693d74e0",
   "metadata": {},
   "outputs": [],
   "source": [
    "cpu = jax.devices(\"cpu\")[0] if jax.devices(\"cpu\") else None\n",
    "gpu = jax.devices(\"METAL\")[0] if jax.devices(\"METAL\") else None\n",
    "jax.config.update(\"jax_platform_name\", \"cpu\")\n",
    "\n",
    "key = jax.random.PRNGKey(0)"
   ]
  },
  {
   "cell_type": "code",
   "execution_count": null,
   "id": "81016a4e",
   "metadata": {},
   "outputs": [],
   "source": [
    "x_train = jnp.array(\n",
    "    [\n",
    "        [0, 0],\n",
    "        [0, 1],\n",
    "        [1, 0],\n",
    "        [1, 1],\n",
    "    ]\n",
    ")"
   ]
  },
  {
   "cell_type": "code",
   "execution_count": null,
   "id": "cddc5764",
   "metadata": {},
   "outputs": [],
   "source": [
    "y_train = jnp.array([[0], [0], [0], [1]])"
   ]
  },
  {
   "cell_type": "code",
   "execution_count": null,
   "id": "2fa58031",
   "metadata": {},
   "outputs": [],
   "source": [
    "x_test = jnp.array(\n",
    "    [\n",
    "        [1, 0],\n",
    "        [0, 1],\n",
    "        [1, 0],\n",
    "        [0, 1],\n",
    "    ]\n",
    ")"
   ]
  },
  {
   "cell_type": "code",
   "execution_count": null,
   "id": "0a9cfa96",
   "metadata": {},
   "outputs": [],
   "source": [
    "y_test = jnp.array([[0], [0], [0], [0]])"
   ]
  },
  {
   "cell_type": "code",
   "execution_count": null,
   "id": "460c4282",
   "metadata": {},
   "outputs": [],
   "source": [
    "def jnp_log(x: jnp.array) -> jnp.array:\n",
    "    x = jnp.clip(x, 1e-10, 1e+10)\n",
    "    return jnp.log(x)"
   ]
  },
  {
   "cell_type": "code",
   "execution_count": null,
   "id": "81f5cf6b",
   "metadata": {},
   "outputs": [],
   "source": [
    "def sigmoid(x: jnp.array) -> jnp.array:\n",
    "    return jnp.exp(jnp.minimum(x, 0)) / (1 + jnp.exp(-jnp.abs(x)))"
   ]
  },
  {
   "cell_type": "code",
   "execution_count": null,
   "id": "f3dc6175",
   "metadata": {},
   "outputs": [],
   "source": [
    "def binary_cross_entropy(y: jnp.array, y_hat: jnp.array) -> jnp.array:\n",
    "    return -jnp.mean(y * jnp_log(y_hat) + (1 - y) * jnp_log(1 - y_hat))"
   ]
  },
  {
   "cell_type": "code",
   "execution_count": null,
   "id": "ea81c965",
   "metadata": {},
   "outputs": [],
   "source": [
    "W = jax.random.normal(key, shape=(2, 1))\n",
    "b = jax.random.normal(key, shape=(1,))"
   ]
  },
  {
   "cell_type": "code",
   "execution_count": null,
   "id": "5bb68bfd",
   "metadata": {},
   "outputs": [],
   "source": [
    "epochs = 10000\n",
    "eta = 0.1\n",
    "\n",
    "for epoch in range(1, epochs+1):\n",
    "    y_hat = sigmoid(jnp.dot(x_train, W) + b)\n",
    "    loss = binary_cross_entropy(y_train, y_hat).item()\n",
    "\n",
    "    delta = y_hat - y_train\n",
    "\n",
    "    batch_size = y_train.shape[0]\n",
    "    dW = jnp.dot(x_train.T, delta) / batch_size\n",
    "    db = jnp.mean(delta, axis=0, keepdims=True)\n",
    "\n",
    "    W -= eta * dW\n",
    "    b -= eta * db\n",
    "\n",
    "    if epoch % 1000 == 0:\n",
    "        print(f\"epoch: {epoch}, loss: {loss}\")"
   ]
  },
  {
   "cell_type": "code",
   "execution_count": null,
   "id": "969db8ca",
   "metadata": {},
   "outputs": [],
   "source": [
    "y_hat = sigmoid(jnp.dot(x_test, W) + b)\n",
    "print(\"Predictions:\")\n",
    "print(y_hat)\n",
    "print(\"\\nTrue labels:\")\n",
    "print(y_test)"
   ]
  }
 ],
 "metadata": {
  "kernelspec": {
   "display_name": "jax_playground",
   "language": "python",
   "name": "python3"
  },
  "language_info": {
   "codemirror_mode": {
    "name": "ipython",
    "version": 3
   },
   "file_extension": ".py",
   "mimetype": "text/x-python",
   "name": "python",
   "nbconvert_exporter": "python",
   "pygments_lexer": "ipython3",
   "version": "3.12.11"
  }
 },
 "nbformat": 4,
 "nbformat_minor": 5
}
