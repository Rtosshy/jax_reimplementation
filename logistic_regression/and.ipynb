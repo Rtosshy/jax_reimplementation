{
 "cells": [
  {
   "cell_type": "code",
   "execution_count": null,
   "id": "da5b072c",
   "metadata": {},
   "outputs": [],
   "source": [
    "import jax\n",
    "import jax.numpy as jnp\n",
    "from typing import Tuple"
   ]
  },
  {
   "cell_type": "code",
   "execution_count": null,
   "id": "693d74e0",
   "metadata": {},
   "outputs": [],
   "source": [
    "cpu = jax.devices(\"cpu\")[0] if jax.devices(\"cpu\") else None\n",
    "gpu = (jax.devices(\"METAL\")[0] if jax.devices(\"METAL\") else\n",
    "       jax.devices(\"gpu\")[0] if jax.devices(\"gpu\") else None)\n",
    "\n",
    "jax.config.update(\"jax_platform_name\", \"cpu\")\n",
    "\n",
    "key = jax.random.PRNGKey(0)"
   ]
  },
  {
   "cell_type": "code",
   "execution_count": null,
   "id": "81016a4e",
   "metadata": {},
   "outputs": [],
   "source": [
    "x_train = jnp.array(\n",
    "    [\n",
    "        [0, 0],\n",
    "        [0, 1],\n",
    "        [1, 0],\n",
    "        [1, 1],\n",
    "    ]\n",
    ") # (4, 2)\n",
    "x_valid = jnp.array(\n",
    "    [\n",
    "        [1, 1],\n",
    "        [0, 1],\n",
    "        [0, 0],\n",
    "        [1, 0],\n",
    "    ]\n",
    ") # (4, 2)\n",
    "x_test = jnp.array(\n",
    "    [\n",
    "        [1, 0],\n",
    "        [0, 1],\n",
    "        [1, 0],\n",
    "        [0, 1],\n",
    "    ]\n",
    ") # (4, 2)\n",
    "\n",
    "y_train = jnp.array([[0], [0], [0], [1]]) # (4, 1)\n",
    "y_valid = jnp.array([[1], [0], [0], [0]]) # (4, 1)\n",
    "y_test = jnp.array([[0], [0], [0], [0]])  # (4, 1)"
   ]
  },
  {
   "cell_type": "code",
   "execution_count": null,
   "id": "460c4282",
   "metadata": {},
   "outputs": [],
   "source": [
    "def jnp_log(x: jnp.array) -> jnp.array:\n",
    "    x = jnp.clip(x, 1e-10, 1e+10)\n",
    "    return jnp.log(x)"
   ]
  },
  {
   "cell_type": "code",
   "execution_count": null,
   "id": "81f5cf6b",
   "metadata": {},
   "outputs": [],
   "source": [
    "def sigmoid(x: jnp.array) -> jnp.array:\n",
    "    return jnp.exp(jnp.minimum(x, 0)) / (1 + jnp.exp(-jnp.abs(x)))"
   ]
  },
  {
   "cell_type": "code",
   "execution_count": null,
   "id": "f3dc6175",
   "metadata": {},
   "outputs": [],
   "source": [
    "def binary_cross_entropy(y: jnp.array, y_hat: jnp.array) -> jnp.array:\n",
    "    return -jnp.mean(y * jnp_log(y_hat) + (1 - y) * jnp_log(1 - y_hat))"
   ]
  },
  {
   "cell_type": "code",
   "execution_count": null,
   "id": "ea81c965",
   "metadata": {},
   "outputs": [],
   "source": [
    "W = jax.random.uniform(key, minval=-0.08, maxval=0.08, shape=(2, 1)).astype(\"float32\")\n",
    "b = jnp.zeros(shape=(1,))"
   ]
  },
  {
   "cell_type": "code",
   "execution_count": null,
   "id": "878f6e51",
   "metadata": {},
   "outputs": [],
   "source": [
    "def train(x: jnp.array, y: jnp.array, eta=1.0) -> jnp.array:\n",
    "    global W, b\n",
    "\n",
    "    # forward\n",
    "    y_hat = sigmoid(jnp.dot(x, W) + b)          # (batch_size, out_dim)\n",
    "    loss = binary_cross_entropy(y, y_hat)\n",
    "\n",
    "    # backward\n",
    "    delta = y_hat - y                           # (batch_size, out_dim)\n",
    "\n",
    "    # calculate gradients\n",
    "    batch_size = x.shape[0]\n",
    "    dW = jnp.dot(x.T, delta) / batch_size       # (in_dim, out_dim)\n",
    "    db = jnp.mean(delta, axis=0, keepdims=True) # (out_dim,)\n",
    "\n",
    "    # update parameters\n",
    "    W -= eta * dW\n",
    "    b -= eta * db\n",
    "\n",
    "    return loss"
   ]
  },
  {
   "cell_type": "code",
   "execution_count": null,
   "id": "ce009487",
   "metadata": {},
   "outputs": [],
   "source": [
    "def valid(x: jnp.array, y: jnp.array) -> Tuple[jnp.array, jnp.array]:\n",
    "    y_hat = sigmoid(jnp.dot(x, W) + b)\n",
    "    loss = binary_cross_entropy(y, y_hat)\n",
    "    return loss, y_hat"
   ]
  },
  {
   "cell_type": "code",
   "execution_count": null,
   "id": "5bb68bfd",
   "metadata": {},
   "outputs": [],
   "source": [
    "epochs = 1000\n",
    "\n",
    "for epoch in range(epochs):\n",
    "    loss = train(x_train, y_train)\n",
    "    loss, y_pred = valid(x_valid, y_valid)\n",
    "\n",
    "    if epoch % 10 == 9 or epoch == 0:\n",
    "        print(f\"EPOCH: {epoch + 1}, Valid Loss: {loss}\")"
   ]
  },
  {
   "cell_type": "code",
   "execution_count": null,
   "id": "969db8ca",
   "metadata": {},
   "outputs": [],
   "source": [
    "_, y_pred = valid(x_test, y_test)\n",
    "print(\"Predictions:\")\n",
    "print(y_pred)\n",
    "print(\"\\nTrue Labels:\")\n",
    "print(y_test)"
   ]
  }
 ],
 "metadata": {
  "kernelspec": {
   "display_name": "jax_playground",
   "language": "python",
   "name": "python3"
  },
  "language_info": {
   "codemirror_mode": {
    "name": "ipython",
    "version": 3
   },
   "file_extension": ".py",
   "mimetype": "text/x-python",
   "name": "python",
   "nbconvert_exporter": "python",
   "pygments_lexer": "ipython3",
   "version": "3.12.11"
  }
 },
 "nbformat": 4,
 "nbformat_minor": 5
}
